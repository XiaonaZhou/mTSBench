{
 "cells": [
  {
   "cell_type": "code",
   "execution_count": null,
   "metadata": {},
   "outputs": [],
   "source": [
    "import pandas as pd\n",
    "import time\n",
    "import os\n",
    "import sys\n",
    "from Detectors.model_wrapper import run_Unsupervise_AD, run_Semisupervise_AD\n",
    "from Detectors.evaluation.metrics import get_metrics\n",
    "from filelock import FileLock\n",
    "from datasets import load_dataset\n",
    "\n",
    "# Load the CalIt2 dataset\n",
    "data_name = \"Calit2\"\n",
    "df = pd.read_csv(\"Datasets/mTSBench/CalIt2/CalIt2_traffic_test.csv\")\n",
    "\n",
    "# using KMeansAD\n",
    "detector = 'KMeansAD'\n",
    "\n",
    "data = df.iloc[:, 1:-1].values.astype(float) # excluede first (time stamp) and last (label) columns \n",
    "label = df['is_anomaly'].astype(int).to_numpy()\n",
    "\n",
    "start = time.time()\n",
    "output = run_Unsupervise_AD(detector, data) # change this to run_Semisupervise_AD if the detector is semi-supervised\n",
    "end = time.time()\n",
    "runtime = end - start\n",
    "\n",
    "metrics = get_metrics(output, label)\n",
    "record = {\n",
    "    \"data_file\": data_name, \n",
    "    \"model\": detector,\n",
    "    \"runtime\": runtime,\n",
    "    **metrics\n",
    "}\n",
    "\n",
    "# Save results to results/<detector>_evaluation_results.csv\n",
    "results_dir = \"results\"\n",
    "os.makedirs(results_dir, exist_ok=True)\n",
    "\n",
    "log_file = os.path.join(results_dir, f\"{detector}_evaluation_results.csv\")\n",
    "with FileLock(log_file + \".lock\"):\n",
    "    df_log = pd.DataFrame([record])\n",
    "    write_header = not os.path.exists(log_file)\n",
    "    df_log.to_csv(log_file, mode='a', header=write_header, index=False)"
   ]
  },
  {
   "cell_type": "code",
   "execution_count": null,
   "metadata": {},
   "outputs": [],
   "source": []
  }
 ],
 "metadata": {
  "kernelspec": {
   "display_name": "Python 3",
   "language": "python",
   "name": "python3"
  },
  "language_info": {
   "codemirror_mode": {
    "name": "ipython",
    "version": 3
   },
   "file_extension": ".py",
   "mimetype": "text/x-python",
   "name": "python",
   "nbconvert_exporter": "python",
   "pygments_lexer": "ipython3",
   "version": "3.11.11"
  }
 },
 "nbformat": 4,
 "nbformat_minor": 2
}
